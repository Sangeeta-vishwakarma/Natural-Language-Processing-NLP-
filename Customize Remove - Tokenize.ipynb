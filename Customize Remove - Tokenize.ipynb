{
 "cells": [
  {
   "cell_type": "code",
   "execution_count": 1,
   "id": "197e904f",
   "metadata": {},
   "outputs": [],
   "source": [
    "# import modules\n",
    "import nltk\n",
    "from nltk.tokenize import word_tokenize\n",
    "from nltk.corpus import stopwords"
   ]
  },
  {
   "cell_type": "code",
   "execution_count": 4,
   "id": "a9f1fee2",
   "metadata": {},
   "outputs": [
    {
     "name": "stdout",
     "output_type": "stream",
     "text": [
      "{'hadn', 'nor', 'this', \"didn't\", 'just', 'you', 'how', 'because', 'mustn', 'who', 'hers', 'during', 'on', 'weren', \"wouldn't\", 'after', 'theirs', 'each', 'itself', 'a', 'off', 'doing', 'isn', \"hasn't\", 'no', 'only', 'any', 'here', 'now', \"don't\", 'ours', 'too', 'to', 'is', 'but', 'aren', 'was', 'those', 'so', 'why', 'having', 'are', 'what', 'should', 'there', 'as', 'between', 'both', 'i', 'haven', 'in', 'be', 'against', 'herself', 're', 'before', \"you've\", 'shan', 'themselves', 'our', \"doesn't\", 'my', 'if', 'at', 'd', 'wasn', 'all', \"that'll\", 'which', 'about', \"mightn't\", 'below', 'your', 'shouldn', 'it', 'had', 'whom', 'through', \"should've\", 'wouldn', 'under', 'were', 'himself', 'can', \"aren't\", 'more', 'hasn', \"it's\", 'him', 'other', \"couldn't\", 'yourself', 'above', 'and', 'such', 'mightn', 'few', \"you're\", 'not', 's', 'me', 'further', 'for', 'didn', 'then', \"needn't\", 'her', 'these', 'he', \"isn't\", \"you'd\", 'by', 'their', 'into', 'an', 'or', 'y', 'the', 'when', 'down', 'doesn', 'needn', \"shan't\", 'o', \"mustn't\", 'while', \"wasn't\", \"you'll\", 'once', 'same', 'did', 'they', \"hadn't\", 'she', 't', 'couldn', 'his', \"won't\", 'own', 'its', 'most', 've', 'ain', 'of', 'again', 'yours', \"shouldn't\", 'very', 'over', 'from', 'up', 'than', 'myself', 'have', 'them', 'ma', 'll', \"she's\", 'until', 'that', 'do', 'with', 'has', 'won', \"weren't\", 'yourselves', 'we', 'where', 'being', 'been', 'm', 'don', 'out', 'ourselves', 'am', 'does', 'will', 'some', \"haven't\"}\n"
     ]
    }
   ],
   "source": [
    "# sw defines the english language stop words\n",
    "sw = set(stopwords.words('english'))\n",
    "print(sw)"
   ]
  },
  {
   "cell_type": "code",
   "execution_count": 5,
   "id": "30c51123",
   "metadata": {},
   "outputs": [
    {
     "name": "stdout",
     "output_type": "stream",
     "text": [
      "\n",
      "Text is :  Cristiano Ronaldo, the famous football player, was born on February 5th, 1985, in Funchal, Madeira, in Portugal.\n",
      "\n",
      "Tokens are : \n",
      "['cristiano', 'ronaldo', ',', 'the', 'famous', 'football', 'player', ',', 'was', 'born', 'on', 'february', '5th', ',', '1985', ',', 'in', 'funchal', ',', 'madeira', ',', 'in', 'portugal', '.']\n"
     ]
    }
   ],
   "source": [
    "text = \"Cristiano Ronaldo, the famous football player, was born on February 5th, 1985, in Funchal, Madeira, in Portugal.\"\n",
    "print(\"\\nText is : \",text)\n",
    "print(\"\\nTokens are : \")\n",
    "text1 = word_tokenize(text.lower())\n",
    "print(text1)"
   ]
  },
  {
   "cell_type": "code",
   "execution_count": 6,
   "id": "50d21c5d",
   "metadata": {},
   "outputs": [
    {
     "name": "stdout",
     "output_type": "stream",
     "text": [
      "['cristiano', 'ronaldo', ',', 'famous', 'football', 'player', ',', 'born', 'february', '5th', ',', '1985', ',', 'funchal', ',', 'madeira', ',', 'portugal', '.']\n"
     ]
    }
   ],
   "source": [
    "# get all words from text2 not in stopwords defined in english language\n",
    "\n",
    "text2 = [x for x in text1 if x not in sw]\n",
    "print(text2)"
   ]
  },
  {
   "cell_type": "code",
   "execution_count": 7,
   "id": "51ac11aa",
   "metadata": {},
   "outputs": [
    {
     "name": "stdout",
     "output_type": "stream",
     "text": [
      "\n",
      "Filtered Text is :\n",
      "['cristiano', 'ronaldo', ',', 'famous', 'football', 'player', ',', 'born', 'february', '5th', ',', '1985', ',', 'funchal', ',', 'madeira', ',', 'portugal', '.']\n"
     ]
    }
   ],
   "source": [
    "# Another way using a for loop\n",
    "\n",
    "filtered_text1 =[]\n",
    "\n",
    "for w in text1:\n",
    "    if w not in sw:\n",
    "        filtered_text1.append(w)\n",
    "\n",
    "print(\"\\nFiltered Text is :\")\n",
    "print(filtered_text1)"
   ]
  },
  {
   "cell_type": "code",
   "execution_count": 8,
   "id": "52457e2d",
   "metadata": {},
   "outputs": [
    {
     "name": "stdout",
     "output_type": "stream",
     "text": [
      "\n",
      "Customized stop word removal : \n",
      "buddy. this is a cat. for now\n"
     ]
    }
   ],
   "source": [
    "#removing customised stop words\n",
    "# define a stop word dictionary and use this for stop word elimination\n",
    "\n",
    "\n",
    "def customizedstopwordremove(text):\n",
    "    my_stop_words=set([\"hi\", \"bye\", \"hmmm\"])\n",
    "    print(\" \".join(word for word in text.lower().split() if word not in my_stop_words))\n",
    "\n",
    "print(\"\\nCustomized stop word removal : \")\n",
    "text=\"Hi buddy. This is hmmm a cat. Bye for now\"\n",
    "\n",
    "customizedstopwordremove(text)\n"
   ]
  },
  {
   "cell_type": "code",
   "execution_count": null,
   "id": "c60a9a27",
   "metadata": {},
   "outputs": [],
   "source": []
  }
 ],
 "metadata": {
  "kernelspec": {
   "display_name": "Python 3 (ipykernel)",
   "language": "python",
   "name": "python3"
  },
  "language_info": {
   "codemirror_mode": {
    "name": "ipython",
    "version": 3
   },
   "file_extension": ".py",
   "mimetype": "text/x-python",
   "name": "python",
   "nbconvert_exporter": "python",
   "pygments_lexer": "ipython3",
   "version": "3.11.4"
  }
 },
 "nbformat": 4,
 "nbformat_minor": 5
}
