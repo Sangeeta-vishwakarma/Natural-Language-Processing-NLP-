{
 "cells": [
  {
   "cell_type": "code",
   "execution_count": 2,
   "id": "93297abf",
   "metadata": {},
   "outputs": [],
   "source": [
    "#import modules\n",
    "import nltk\n",
    "from nltk.corpus import wordnet\n",
    "from nltk.stem import WordNetLemmatizer"
   ]
  },
  {
   "cell_type": "code",
   "execution_count": 3,
   "id": "2ab53fbe",
   "metadata": {},
   "outputs": [],
   "source": [
    "# Define function to get pos tag for word\n",
    "def get_wordnet_pos():\n",
    "    tag = nltk.pos_tag([word])[0][1][0].upper()\n",
    "    tag_dict = {\"J\":wordnet.ADJ,\n",
    "                \"V\":wordnet.VERB,\n",
    "                \"N\":wordnet.NOUN,\n",
    "                \"R\":wordnet.ADV}\n",
    "    return tag_dict.get(tag, wordnet.NOUN)"
   ]
  },
  {
   "cell_type": "code",
   "execution_count": 4,
   "id": "8bc43999",
   "metadata": {},
   "outputs": [],
   "source": [
    "# 1. Init Lemmatizer\n",
    "lemmatizer = WordNetLemmatizer()"
   ]
  },
  {
   "cell_type": "code",
   "execution_count": 14,
   "id": "075da6db",
   "metadata": {},
   "outputs": [
    {
     "name": "stdout",
     "output_type": "stream",
     "text": [
      "feet  is  foot\n"
     ]
    }
   ],
   "source": [
    "# 2. Lemmatize Single Word with the appropriate POS tag\n",
    "word = 'feet'\n",
    "print(word, \" is \",lemmatizer.lemmatize(word))"
   ]
  },
  {
   "cell_type": "code",
   "execution_count": 1,
   "id": "500db250",
   "metadata": {},
   "outputs": [
    {
     "name": "stdout",
     "output_type": "stream",
     "text": [
      "Requirement already satisfied: nltk in c:\\users\\admin\\anaconda3\\lib\\site-packages (3.8.1)\n",
      "Requirement already satisfied: click in c:\\users\\admin\\anaconda3\\lib\\site-packages (from nltk) (8.0.4)\n",
      "Requirement already satisfied: joblib in c:\\users\\admin\\anaconda3\\lib\\site-packages (from nltk) (1.2.0)\n",
      "Requirement already satisfied: regex>=2021.8.3 in c:\\users\\admin\\anaconda3\\lib\\site-packages (from nltk) (2022.7.9)\n",
      "Requirement already satisfied: tqdm in c:\\users\\admin\\anaconda3\\lib\\site-packages (from nltk) (4.65.0)\n",
      "Requirement already satisfied: colorama in c:\\users\\admin\\anaconda3\\lib\\site-packages (from click->nltk) (0.4.6)\n"
     ]
    }
   ],
   "source": [
    "!pip install nltk"
   ]
  },
  {
   "cell_type": "code",
   "execution_count": 17,
   "id": "a6cc3b10",
   "metadata": {},
   "outputs": [
    {
     "name": "stdout",
     "output_type": "stream",
     "text": [
      "[('Songs', 'NNS')]\n",
      "[('Juices', 'NNS')]\n",
      "[('playing', 'VBG')]\n"
     ]
    }
   ],
   "source": [
    "word = lemmatizer.lemmatize('hanging')\n",
    "word\n",
    "my_tokens = ['Songs','Juices','playing']\n",
    "for tokens in my_tokens:\n",
    "    print(nltk.pos_tag([lemmatizer.lemmatize(tokens)]))"
   ]
  },
  {
   "cell_type": "code",
   "execution_count": 18,
   "id": "534fdf31",
   "metadata": {},
   "outputs": [
    {
     "name": "stdout",
     "output_type": "stream",
     "text": [
      "['The', 'striped', 'bats', 'are', 'hanging', 'on', 'their', 'feet', 'for', 'best', 'view', 'of', 'the', 'upside', 'world']\n",
      "[('The', 'DT')]\n",
      "[('striped', 'VBD')]\n",
      "[('bat', 'NN')]\n",
      "[('are', 'VBP')]\n",
      "[('hanging', 'VBG')]\n",
      "[('on', 'IN')]\n",
      "[('their', 'PRP$')]\n",
      "[('foot', 'NN')]\n",
      "[('for', 'IN')]\n",
      "[('best', 'JJS')]\n",
      "[('view', 'NN')]\n",
      "[('of', 'IN')]\n",
      "[('the', 'DT')]\n",
      "[('upside', 'NN')]\n",
      "[('world', 'NN')]\n"
     ]
    }
   ],
   "source": [
    "# 3. Lemmatize a Sentence with the appropriate POS tag\n",
    "sentence = \"The striped bats are hanging on their feet for best view of the upside world\"\n",
    "tokens = nltk.word_tokenize(sentence)\n",
    "print(tokens)\n",
    "for tok in tokens:\n",
    "    print(nltk.pos_tag([lemmatizer.lemmatize(tok)]))"
   ]
  },
  {
   "cell_type": "code",
   "execution_count": null,
   "id": "a0e35415",
   "metadata": {},
   "outputs": [],
   "source": []
  }
 ],
 "metadata": {
  "kernelspec": {
   "display_name": "Python 3 (ipykernel)",
   "language": "python",
   "name": "python3"
  },
  "language_info": {
   "codemirror_mode": {
    "name": "ipython",
    "version": 3
   },
   "file_extension": ".py",
   "mimetype": "text/x-python",
   "name": "python",
   "nbconvert_exporter": "python",
   "pygments_lexer": "ipython3",
   "version": "3.11.4"
  }
 },
 "nbformat": 4,
 "nbformat_minor": 5
}
