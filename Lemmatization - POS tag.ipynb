{
 "cells": [
  {
   "cell_type": "code",
   "execution_count": 7,
   "id": "bea9320b",
   "metadata": {},
   "outputs": [],
   "source": [
    "# Import modules require for lemmatization\n",
    "import nltk\n",
    "from nltk.stem import WordNetLemmatizer\n",
    "from nltk.tokenize import word_tokenize"
   ]
  },
  {
   "cell_type": "code",
   "execution_count": 2,
   "id": "125105b4",
   "metadata": {},
   "outputs": [],
   "source": [
    "# Create instance for lemmatization\n",
    "lemmatizer = WordNetLemmatizer()"
   ]
  },
  {
   "cell_type": "code",
   "execution_count": 4,
   "id": "829ece36",
   "metadata": {},
   "outputs": [
    {
     "name": "stdout",
     "output_type": "stream",
     "text": [
      "rock : rock\n",
      "corpus : corpus\n",
      "assholess : asshole\n"
     ]
    }
   ],
   "source": [
    "# use lemmatizer for words\n",
    "print(\"rock :\",lemmatizer.lemmatize(\"rock\"))\n",
    "print(\"corpus :\",lemmatizer.lemmatize(\"corpus\"))\n",
    "print(\"assholess :\",lemmatizer.lemmatize(\"assholess\"))"
   ]
  },
  {
   "cell_type": "code",
   "execution_count": 5,
   "id": "f3154751",
   "metadata": {},
   "outputs": [
    {
     "name": "stdout",
     "output_type": "stream",
     "text": [
      "bats : bat\n",
      "balls : ball\n",
      "are : are\n",
      "sporting : sporting\n",
      "equipments : equipment\n",
      "feet : foot\n"
     ]
    }
   ],
   "source": [
    "#lemmatize list\n",
    "lem = ['bats' , 'balls', 'are', 'sporting', 'equipments', 'feet']\n",
    "for word in lem:\n",
    "    print(word,\":\",lemmatizer.lemmatize(word))"
   ]
  },
  {
   "cell_type": "code",
   "execution_count": 10,
   "id": "757b34d4",
   "metadata": {},
   "outputs": [
    {
     "name": "stdout",
     "output_type": "stream",
     "text": [
      "Tokenization of words: ['The', 'striped', 'bats', 'are', 'hanging', 'on', 'their', 'feet', 'for', 'best', 'view', 'of', 'the', 'inverted', 'worlds']\n"
     ]
    }
   ],
   "source": [
    "# Lemmatize sentence\n",
    "sentence = \"The striped bats are hanging on their feet for best view of the inverted worlds\"\n",
    "# Tokenize: split senetence into words\n",
    "words = word_tokenize(sentence)\n",
    "print(\"Tokenization of words:\",words)"
   ]
  },
  {
   "cell_type": "code",
   "execution_count": 15,
   "id": "f80ace17",
   "metadata": {},
   "outputs": [
    {
     "name": "stdout",
     "output_type": "stream",
     "text": [
      "The striped bat are hanging on their foot for best view of the inverted world\n"
     ]
    }
   ],
   "source": [
    "# Lemmatize list of words and join\n",
    "lemmatize_output = \" \".join(lemmatizer.lemmatize(w) for w in words)\n",
    "print(lemmatize_output)"
   ]
  },
  {
   "cell_type": "code",
   "execution_count": 16,
   "id": "032e8a74",
   "metadata": {},
   "outputs": [
    {
     "name": "stdout",
     "output_type": "stream",
     "text": [
      "The word is :  stripes\n",
      "verb context :  strip\n",
      "noun context :  stripe\n"
     ]
    }
   ],
   "source": [
    "# same word can have multiple lemmas based on the context.\n",
    "# use POS parts of speech to adjust this\n",
    "w='stripes'\n",
    "print('The word is : ', w)\n",
    "print('verb context : ', lemmatizer.lemmatize(w, 'v'))  \n",
    "print('noun context : ', lemmatizer.lemmatize(w, 'n'))  "
   ]
  },
  {
   "cell_type": "code",
   "execution_count": 17,
   "id": "ecc09f9a",
   "metadata": {},
   "outputs": [
    {
     "name": "stdout",
     "output_type": "stream",
     "text": [
      "\n",
      "more examples\n",
      "python : python\n",
      "better : good\n",
      "best : best\n",
      "run : run\n",
      "run : run\n"
     ]
    }
   ],
   "source": [
    "print(\"\\nmore examples\")\n",
    "print(\"python\"+ \" : \"+lemmatizer.lemmatize(\"python\"))\n",
    "print(\"better\"+ \" : \"+lemmatizer.lemmatize(\"better\", pos=\"a\"))\n",
    "print(\"best\"+ \" : \"+lemmatizer.lemmatize(\"best\", pos=\"a\"))\n",
    "print(\"run\"+ \" : \"+lemmatizer.lemmatize(\"run\"))\n",
    "print(\"run\"+ \" : \"+lemmatizer.lemmatize(\"run\",'v'))"
   ]
  },
  {
   "cell_type": "code",
   "execution_count": null,
   "id": "cb731d0d",
   "metadata": {},
   "outputs": [],
   "source": []
  }
 ],
 "metadata": {
  "kernelspec": {
   "display_name": "Python 3 (ipykernel)",
   "language": "python",
   "name": "python3"
  },
  "language_info": {
   "codemirror_mode": {
    "name": "ipython",
    "version": 3
   },
   "file_extension": ".py",
   "mimetype": "text/x-python",
   "name": "python",
   "nbconvert_exporter": "python",
   "pygments_lexer": "ipython3",
   "version": "3.11.4"
  }
 },
 "nbformat": 4,
 "nbformat_minor": 5
}
