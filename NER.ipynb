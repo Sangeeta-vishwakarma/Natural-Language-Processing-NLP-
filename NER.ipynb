{
 "cells": [
  {
   "cell_type": "markdown",
   "id": "36fdea57",
   "metadata": {},
   "source": [
    "# Name Entity Recognition"
   ]
  },
  {
   "cell_type": "raw",
   "id": "3ab075cf",
   "metadata": {},
   "source": [
    "Recognising named entities.\n",
    "It is used to detect company names, location names etc."
   ]
  },
  {
   "cell_type": "code",
   "execution_count": 1,
   "id": "9cfaddb0",
   "metadata": {},
   "outputs": [],
   "source": [
    "# import modules\n",
    "import nltk\n",
    "from nltk import ne_chunk"
   ]
  },
  {
   "cell_type": "code",
   "execution_count": 2,
   "id": "6f0f8e4e",
   "metadata": {},
   "outputs": [],
   "source": [
    "text = \"Reliance's CEO  Mr.Mukesh Ambani introduced the new JIO services at Brabourne Stadium Centre, Boston,USA\""
   ]
  },
  {
   "cell_type": "code",
   "execution_count": 3,
   "id": "756f8bc4",
   "metadata": {},
   "outputs": [
    {
     "name": "stdout",
     "output_type": "stream",
     "text": [
      "[('Reliance', 'NNP'), (\"'s\", 'POS'), ('CEO', 'NNP'), ('Mr.Mukesh', 'NNP'), ('Ambani', 'NNP'), ('introduced', 'VBD'), ('the', 'DT'), ('new', 'JJ'), ('JIO', 'NNP'), ('services', 'NNS'), ('at', 'IN'), ('Brabourne', 'NNP'), ('Stadium', 'NNP'), ('Centre', 'NNP'), (',', ','), ('Boston', 'NNP'), (',', ','), ('USA', 'NNP')]\n"
     ]
    }
   ],
   "source": [
    "# Tokenize and pos tag before doing chunk\n",
    "token = nltk.word_tokenize(text)\n",
    "tags = nltk.pos_tag(token)\n",
    "print(tags)"
   ]
  },
  {
   "cell_type": "code",
   "execution_count": 4,
   "id": "f52fe269",
   "metadata": {},
   "outputs": [
    {
     "name": "stdout",
     "output_type": "stream",
     "text": [
      "Input text is :  Reliance's CEO  Mr.Mukesh Ambani introduced the new JIO services at Brabourne Stadium Centre, Boston,USA\n",
      "Chunk output is \n",
      "(S\n",
      "  (GPE Reliance/NNP)\n",
      "  's/POS\n",
      "  (ORGANIZATION CEO/NNP)\n",
      "  Mr.Mukesh/NNP\n",
      "  (PERSON Ambani/NNP)\n",
      "  introduced/VBD\n",
      "  the/DT\n",
      "  new/JJ\n",
      "  (ORGANIZATION JIO/NNP)\n",
      "  services/NNS\n",
      "  at/IN\n",
      "  (ORGANIZATION Brabourne/NNP Stadium/NNP Centre/NNP)\n",
      "  ,/,\n",
      "  (GPE Boston/NNP)\n",
      "  ,/,\n",
      "  (ORGANIZATION USA/NNP))\n"
     ]
    }
   ],
   "source": [
    "# identify named entities to create chunks\n",
    "chunk = ne_chunk(tags)\n",
    "print(\"Input text is : \",text)\n",
    "print(\"Chunk output is \")\n",
    "print(chunk)"
   ]
  },
  {
   "cell_type": "code",
   "execution_count": 5,
   "id": "c999ba96",
   "metadata": {},
   "outputs": [],
   "source": [
    "# generate the parse tree\n",
    "chunk.draw()"
   ]
  },
  {
   "cell_type": "code",
   "execution_count": 6,
   "id": "83c1ad64",
   "metadata": {},
   "outputs": [],
   "source": [
    "# use nltk.download('state_union')  to download the corpus\n",
    "from nltk.corpus import state_union\n",
    "from nltk.tokenize import PunktSentenceTokenizer"
   ]
  },
  {
   "cell_type": "code",
   "execution_count": 7,
   "id": "15d34f27",
   "metadata": {},
   "outputs": [],
   "source": [
    "train_text = state_union.raw(\"2005-GWBush.txt\")\n",
    "sample_text = state_union.raw(\"2006-GWBush.txt\")"
   ]
  },
  {
   "cell_type": "code",
   "execution_count": 8,
   "id": "939c7300",
   "metadata": {},
   "outputs": [],
   "source": [
    "custom_sent_tokenizer = PunktSentenceTokenizer(train_text)\n",
    "\n",
    "tokenized = custom_sent_tokenizer.tokenize(sample_text)"
   ]
  },
  {
   "cell_type": "code",
   "execution_count": 9,
   "id": "29023723",
   "metadata": {},
   "outputs": [],
   "source": [
    "def process_content():\n",
    "    try:\n",
    "        for i in tokenized[:5]:\n",
    "            words = nltk.word_tokenize(i)\n",
    "            tagged = nltk.pos_tag(words)\n",
    "            namedEnt = nltk.ne_chunk(tagged)\n",
    "            namedEnt.draw()\n",
    "    except Exception as e:\n",
    "        print(str(e))\n",
    "process_content()"
   ]
  },
  {
   "cell_type": "code",
   "execution_count": null,
   "id": "856a3b64",
   "metadata": {},
   "outputs": [],
   "source": []
  }
 ],
 "metadata": {
  "kernelspec": {
   "display_name": "Python 3 (ipykernel)",
   "language": "python",
   "name": "python3"
  },
  "language_info": {
   "codemirror_mode": {
    "name": "ipython",
    "version": 3
   },
   "file_extension": ".py",
   "mimetype": "text/x-python",
   "name": "python",
   "nbconvert_exporter": "python",
   "pygments_lexer": "ipython3",
   "version": "3.11.4"
  }
 },
 "nbformat": 4,
 "nbformat_minor": 5
}
