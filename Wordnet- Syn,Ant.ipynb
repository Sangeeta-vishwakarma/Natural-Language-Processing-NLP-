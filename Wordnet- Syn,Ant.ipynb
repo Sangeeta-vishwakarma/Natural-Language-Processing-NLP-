{
 "cells": [
  {
   "cell_type": "code",
   "execution_count": 1,
   "id": "8a28dfad",
   "metadata": {},
   "outputs": [
    {
     "name": "stdout",
     "output_type": "stream",
     "text": [
      "First synonym for  program  is  plan.n.01\n"
     ]
    }
   ],
   "source": [
    "from nltk.corpus import wordnet\n",
    "\n",
    "# display Synonym sets for a given word\n",
    "w=\"program\"\n",
    "syns = wordnet.synsets(\"program\")\n",
    "print(\"First synonym for \",w,\" is \", syns[0].name())"
   ]
  },
  {
   "cell_type": "code",
   "execution_count": 2,
   "id": "bbd21e6a",
   "metadata": {},
   "outputs": [
    {
     "name": "stdout",
     "output_type": "stream",
     "text": [
      "Definition of the first synonym is\n",
      "a series of steps to be carried out or goals to be accomplished\n",
      "\n",
      "Next synonym for  program  is  program.n.02\n",
      "\n"
     ]
    }
   ],
   "source": [
    "print(\"Definition of the first synonym is\")\n",
    "print(syns[0].definition())\n",
    "print(\"\\nNext synonym for \",w,\" is \", syns[1].name())\n",
    "print()"
   ]
  },
  {
   "cell_type": "code",
   "execution_count": 3,
   "id": "6836c1b4",
   "metadata": {},
   "outputs": [
    {
     "name": "stdout",
     "output_type": "stream",
     "text": [
      "Example usage\n",
      "['they drew up a six-step plan', 'they discussed plans for a new bond issue']\n",
      "\n"
     ]
    }
   ],
   "source": [
    "print(\"Example usage\")\n",
    "print(syns[0].examples())\n",
    "print()"
   ]
  },
  {
   "cell_type": "code",
   "execution_count": 4,
   "id": "866f9686",
   "metadata": {},
   "outputs": [
    {
     "name": "stdout",
     "output_type": "stream",
     "text": [
      "All synonyms\n",
      "Next synonym is  Synset('plan.n.01')\n",
      "Next synonym is  Synset('program.n.02')\n",
      "Next synonym is  Synset('broadcast.n.02')\n",
      "Next synonym is  Synset('platform.n.02')\n",
      "Next synonym is  Synset('program.n.05')\n",
      "Next synonym is  Synset('course_of_study.n.01')\n",
      "Next synonym is  Synset('program.n.07')\n",
      "Next synonym is  Synset('program.n.08')\n",
      "Next synonym is  Synset('program.v.01')\n",
      "Next synonym is  Synset('program.v.02')\n"
     ]
    }
   ],
   "source": [
    "print(\"All synonyms\")\n",
    "for s in syns:\n",
    "   print(\"Next synonym is \", s)"
   ]
  },
  {
   "cell_type": "code",
   "execution_count": 5,
   "id": "25c906e9",
   "metadata": {},
   "outputs": [
    {
     "name": "stdout",
     "output_type": "stream",
     "text": [
      "\n",
      "Let us extract both synonyms and antonyms\n"
     ]
    }
   ],
   "source": [
    "print(\"\\nLet us extract both synonyms and antonyms\")\n",
    "synonyms = []\n",
    "antonyms = []"
   ]
  },
  {
   "cell_type": "code",
   "execution_count": 6,
   "id": "a8179898",
   "metadata": {},
   "outputs": [
    {
     "name": "stdout",
     "output_type": "stream",
     "text": [
      "Synonyms list for  good\n",
      "{'just', 'full', 'undecomposed', 'near', 'beneficial', 'effective', 'respectable', 'good', 'safe', 'sound', 'unspoilt', 'serious', 'salutary', 'skillful', 'skilful', 'goodness', 'thoroughly', 'proficient', 'dear', 'unspoiled', 'right', 'in_effect', 'soundly', 'ripe', 'dependable', 'upright', 'estimable', 'expert', 'honest', 'adept', 'secure', 'commodity', 'well', 'in_force', 'honorable', 'practiced', 'trade_good'}\n",
      "\n",
      "Antonyms list for  good\n",
      "{'bad', 'evil', 'ill', 'evilness', 'badness'}\n"
     ]
    }
   ],
   "source": [
    "w=\"good\"\n",
    "for syn in wordnet.synsets(w):\n",
    "    for l in syn.lemmas():\n",
    "        synonyms.append(l.name())\n",
    "        if l.antonyms():\n",
    "            antonyms.append(l.antonyms()[0].name())\n",
    "\n",
    "print(\"Synonyms list for \",w )\n",
    "print(set(synonyms))\n",
    "print(\"\\nAntonyms list for \", w)\n",
    "print(set(antonyms))"
   ]
  },
  {
   "cell_type": "code",
   "execution_count": null,
   "id": "ae677cad",
   "metadata": {},
   "outputs": [],
   "source": []
  }
 ],
 "metadata": {
  "kernelspec": {
   "display_name": "Python 3 (ipykernel)",
   "language": "python",
   "name": "python3"
  },
  "language_info": {
   "codemirror_mode": {
    "name": "ipython",
    "version": 3
   },
   "file_extension": ".py",
   "mimetype": "text/x-python",
   "name": "python",
   "nbconvert_exporter": "python",
   "pygments_lexer": "ipython3",
   "version": "3.11.4"
  }
 },
 "nbformat": 4,
 "nbformat_minor": 5
}
