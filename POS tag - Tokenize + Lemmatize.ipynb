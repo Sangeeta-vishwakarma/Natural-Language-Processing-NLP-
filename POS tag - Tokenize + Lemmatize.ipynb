{
 "cells": [
  {
   "cell_type": "markdown",
   "id": "4179fcba",
   "metadata": {},
   "source": [
    "# Parts Of Speech"
   ]
  },
  {
   "cell_type": "raw",
   "id": "f188f4ea",
   "metadata": {},
   "source": [
    "Same word can have multiple lemmas based on the context.\n",
    "Use POS parts of speech to adjust this. Below we have some of the POS tag."
   ]
  },
  {
   "cell_type": "raw",
   "id": "e9bf1d2b",
   "metadata": {},
   "source": [
    "CC coordinating conjunction\n",
    "CD cardinal digit\n",
    "DT determiner\n",
    "EX existential there (like: “there is” … think of it like “there exists”)\n",
    "FW foreign word\n",
    "IN preposition/subordinating conjunction\n",
    "JJ adjective 'big'\n",
    "JJR adjective, comparative 'bigger'\n",
    "JJS adjective, superlative 'biggest'\n",
    "LS list marker 1)\n",
    "MD modal could, will\n",
    "NN noun, singular 'desk'\n",
    "NNS noun plural 'desks'\n",
    "NNP proper noun, singular 'Harrison'\n",
    "NNPS proper noun, plural 'Americans'\n",
    "PDT predeterminer 'all the kids'\n",
    "POS possessive ending parent\\‘s\n",
    "PRP personal pronoun I, he, she\n",
    "PRP$ possessive pronoun my, his, hers\n",
    "RB adverb very, silently,\n",
    "RBR adverb, comparative better\n",
    "RBS adverb, superlative best\n",
    "RP particle give up\n",
    "TO to go 'to' the store.\n",
    "UH interjection errrrrrrrm\n",
    "VB verb, base form   take\n",
    "VBD verb, past tense took\n",
    "VBG verb, gerund/present participle taking\n",
    "VBN verb, past participle taken\n",
    "VBP verb, sing. present, non-3d take\n",
    "VBZ verb, 3rd person sing. present takes\n",
    "WDT wh-determiner which\n",
    "WP wh-pronoun who, what\n",
    "WP$ possessive wh-pronoun whose\n",
    "WRB wh-abverb where, when"
   ]
  },
  {
   "cell_type": "code",
   "execution_count": 2,
   "id": "a458cba7",
   "metadata": {},
   "outputs": [],
   "source": [
    "import nltk"
   ]
  },
  {
   "cell_type": "code",
   "execution_count": 1,
   "id": "0acfc56b",
   "metadata": {},
   "outputs": [],
   "source": [
    "# some text is given to perform pos tagging\n",
    "text1 = \"vote to choose a particular man or a group (party) to represent them in the parliament\"\n",
    "text='''Hi Mr.Suresh. Everything is shining about NLP in Python to understand one greatest languages.\n",
    "How to installing nltk is always a big mystery less explained or properly documented.'''"
   ]
  },
  {
   "cell_type": "code",
   "execution_count": 4,
   "id": "aad1c1f2",
   "metadata": {},
   "outputs": [
    {
     "name": "stdout",
     "output_type": "stream",
     "text": [
      "['Hi', 'Mr.Suresh', '.', 'Everything', 'is', 'shining', 'about', 'NLP', 'in', 'Python', 'to', 'understand', 'one', 'greatest', 'languages', '.', 'How', 'to', 'installing', 'nltk', 'is', 'always', 'a', 'big', 'mystery', 'less', 'explained', 'or', 'properly', 'documented', '.']\n"
     ]
    }
   ],
   "source": [
    "# Tokenize the text\n",
    "texts = nltk.word_tokenize(text)\n",
    "print(texts)"
   ]
  },
  {
   "cell_type": "code",
   "execution_count": 6,
   "id": "2bbf7717",
   "metadata": {},
   "outputs": [
    {
     "name": "stdout",
     "output_type": "stream",
     "text": [
      "[('Hi', 'NN')]\n",
      "[('Mr.Suresh', 'NN')]\n",
      "[('.', '.')]\n",
      "[('Everything', 'NN')]\n",
      "[('is', 'VBZ')]\n",
      "[('shining', 'VBG')]\n",
      "[('about', 'IN')]\n",
      "[('NLP', 'NN')]\n",
      "[('in', 'IN')]\n",
      "[('Python', 'NN')]\n",
      "[('to', 'TO')]\n",
      "[('understand', 'NN')]\n",
      "[('one', 'CD')]\n",
      "[('greatest', 'JJS')]\n",
      "[('languages', 'NNS')]\n",
      "[('.', '.')]\n",
      "[('How', 'WRB')]\n",
      "[('to', 'TO')]\n",
      "[('installing', 'VBG')]\n",
      "[('nltk', 'NN')]\n",
      "[('is', 'VBZ')]\n",
      "[('always', 'RB')]\n",
      "[('a', 'DT')]\n",
      "[('big', 'JJ')]\n",
      "[('mystery', 'NN')]\n",
      "[('less', 'RBR')]\n",
      "[('explained', 'VBD')]\n",
      "[('or', 'CC')]\n",
      "[('properly', 'RB')]\n",
      "[('documented', 'VBN')]\n",
      "[('.', '.')]\n"
     ]
    }
   ],
   "source": [
    "# pos tag for tokens\n",
    "for tokens in texts:\n",
    "    print(nltk.pos_tag([tokens]))"
   ]
  },
  {
   "cell_type": "markdown",
   "id": "dfccc8c6",
   "metadata": {},
   "source": [
    "POS tagging using Lemmatization"
   ]
  },
  {
   "cell_type": "code",
   "execution_count": 13,
   "id": "eef8641e",
   "metadata": {},
   "outputs": [],
   "source": [
    "from nltk.stem import WordNetLemmatizer\n",
    "lemmatizer = WordNetLemmatizer()"
   ]
  },
  {
   "cell_type": "code",
   "execution_count": 15,
   "id": "67349b47",
   "metadata": {},
   "outputs": [
    {
     "name": "stdout",
     "output_type": "stream",
     "text": [
      "[('Hi', 'NN')]\n",
      "[('Mr.Suresh', 'NN')]\n",
      "[('.', '.')]\n",
      "[('Everything', 'NN')]\n",
      "[('is', 'VBZ')]\n",
      "[('shining', 'VBG')]\n",
      "[('about', 'IN')]\n",
      "[('NLP', 'NN')]\n",
      "[('in', 'IN')]\n",
      "[('Python', 'NN')]\n",
      "[('to', 'TO')]\n",
      "[('understand', 'NN')]\n",
      "[('one', 'CD')]\n",
      "[('greatest', 'JJS')]\n",
      "[('language', 'NN')]\n",
      "[('.', '.')]\n",
      "[('How', 'WRB')]\n",
      "[('to', 'TO')]\n",
      "[('installing', 'VBG')]\n",
      "[('nltk', 'NN')]\n",
      "[('is', 'VBZ')]\n",
      "[('always', 'RB')]\n",
      "[('a', 'DT')]\n",
      "[('big', 'JJ')]\n",
      "[('mystery', 'NN')]\n",
      "[('le', 'NN')]\n",
      "[('explained', 'VBD')]\n",
      "[('or', 'CC')]\n",
      "[('properly', 'RB')]\n",
      "[('documented', 'VBN')]\n",
      "[('.', '.')]\n"
     ]
    }
   ],
   "source": [
    "for tokens in texts:\n",
    "    print(nltk.pos_tag([lemmatizer.lemmatize(tokens)]))"
   ]
  },
  {
   "cell_type": "code",
   "execution_count": null,
   "id": "d2e50925",
   "metadata": {},
   "outputs": [],
   "source": []
  }
 ],
 "metadata": {
  "kernelspec": {
   "display_name": "Python 3 (ipykernel)",
   "language": "python",
   "name": "python3"
  },
  "language_info": {
   "codemirror_mode": {
    "name": "ipython",
    "version": 3
   },
   "file_extension": ".py",
   "mimetype": "text/x-python",
   "name": "python",
   "nbconvert_exporter": "python",
   "pygments_lexer": "ipython3",
   "version": "3.11.4"
  }
 },
 "nbformat": 4,
 "nbformat_minor": 5
}
