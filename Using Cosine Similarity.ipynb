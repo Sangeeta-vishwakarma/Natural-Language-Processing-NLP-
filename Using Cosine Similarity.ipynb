{
 "cells": [
  {
   "cell_type": "markdown",
   "id": "055a428d",
   "metadata": {},
   "source": [
    "# Document classification using Cosine Similarity"
   ]
  },
  {
   "cell_type": "markdown",
   "id": "05fbbb9f",
   "metadata": {},
   "source": [
    "This problem usE Bag Of Words(BOW) which contains film domain related words. We will take 2 paragraphs and using cosine similarity which of the two is similar to the film domain."
   ]
  },
  {
   "cell_type": "code",
   "execution_count": 1,
   "id": "46ec5433",
   "metadata": {},
   "outputs": [],
   "source": [
    "# define the bow for movies domain\n",
    "bow = ['film','movie','camera','director','hero','heroine','hit','flop','climax','box-office','music','dance','song','comedy','action']"
   ]
  },
  {
   "cell_type": "code",
   "execution_count": 2,
   "id": "bedbeb27",
   "metadata": {},
   "outputs": [
    {
     "name": "stderr",
     "output_type": "stream",
     "text": [
      "[nltk_data] Downloading package punkt to\n",
      "[nltk_data]     C:\\Users\\admin\\AppData\\Roaming\\nltk_data...\n",
      "[nltk_data]   Package punkt is already up-to-date!\n",
      "[nltk_data] Downloading package stopwords to\n",
      "[nltk_data]     C:\\Users\\admin\\AppData\\Roaming\\nltk_data...\n",
      "[nltk_data]   Package stopwords is already up-to-date!\n"
     ]
    }
   ],
   "source": [
    "# import necessary library\n",
    "import nltk\n",
    "nltk.download('punkt')\n",
    "nltk.download('stopwords')\n",
    "import numpy as np\n",
    "import pandas as pd\n",
    "from nltk.tokenize import word_tokenize\n",
    "from nltk.corpus import stopwords"
   ]
  },
  {
   "cell_type": "code",
   "execution_count": 3,
   "id": "4b165cb1",
   "metadata": {},
   "outputs": [],
   "source": [
    "# para1 contains film domain paragraphs\n",
    "para1 = '''A few movies become hit on the box-office.\n",
    "           And some get flopped.\n",
    "           Comedy movies are best.\n",
    "           Director should focus on song and their music, dance , actions.'''"
   ]
  },
  {
   "cell_type": "code",
   "execution_count": 12,
   "id": "7695ff45",
   "metadata": {},
   "outputs": [],
   "source": [
    "#para2 contain random paragraphs\n",
    "para2 = ''' Our life is full of drama, thrill, actions just like film.\n",
    "            We have to deal with it.\n",
    "            Not so far , life is comedy too.'''\n"
   ]
  },
  {
   "cell_type": "code",
   "execution_count": 20,
   "id": "548d9d12",
   "metadata": {},
   "outputs": [],
   "source": [
    "para2='''my heart is beating.\n",
    "         keeps on repeating.\n",
    "         I'm waitng for u.'''"
   ]
  },
  {
   "cell_type": "code",
   "execution_count": 21,
   "id": "844f5e10",
   "metadata": {},
   "outputs": [],
   "source": [
    "#Tokenization of both paragraphs\n",
    "para1_list = word_tokenize(para1)\n",
    "para2_list = word_tokenize(para2)"
   ]
  },
  {
   "cell_type": "code",
   "execution_count": 22,
   "id": "d9cbdf8a",
   "metadata": {},
   "outputs": [],
   "source": [
    "# sw contains stopwords and empty list created\n",
    "sw = stopwords.words('english')\n",
    "l1 = []\n",
    "l2 = []"
   ]
  },
  {
   "cell_type": "code",
   "execution_count": 23,
   "id": "1c87233c",
   "metadata": {},
   "outputs": [],
   "source": [
    "# Remove stopwords from string\n",
    "para1_set = {w for w in para1_list if not w in sw}\n",
    "para2_set = {w for w in para2_list if not w in sw}"
   ]
  },
  {
   "cell_type": "code",
   "execution_count": 24,
   "id": "b2346dbc",
   "metadata": {},
   "outputs": [
    {
     "name": "stdout",
     "output_type": "stream",
     "text": [
      "\n",
      "All keywords {'hit', 'waitng', 'get', 'flopped', 'Director', 'focus', 'And', 'box-office', 'Comedy', 'song', 'become', 'dance', 'best', 'keeps', 'movies', 'music', 'A', '.', 'heart', ',', 'repeating', 'actions', 'beating', 'I', \"'m\", 'u'}\n"
     ]
    }
   ],
   "source": [
    "# Form a set containing keyword of both strings\n",
    "rvector = para1_set.union(para2_set)\n",
    "# print the set\n",
    "print(\"\\nAll keywords\",rvector)"
   ]
  },
  {
   "cell_type": "code",
   "execution_count": 25,
   "id": "0b79201e",
   "metadata": {},
   "outputs": [
    {
     "name": "stdout",
     "output_type": "stream",
     "text": [
      "\n",
      "Vector para1 [1, 0, 1, 1, 1, 1, 1, 1, 1, 1, 1, 1, 1, 0, 1, 1, 1, 1, 0, 1, 0, 1, 0, 0, 0, 0]\n",
      "\n",
      "Vector para2 [0, 2, 0, 0, 0, 0, 0, 0, 0, 0, 0, 0, 0, 2, 0, 0, 0, 2, 2, 0, 2, 0, 2, 2, 2, 2]\n"
     ]
    }
   ],
   "source": [
    "# Prepare binary vector\n",
    "\n",
    "for w in rvector:\n",
    "    if w in para1_set:l1.append(1)  # create a vector\n",
    "    else:l1.append(0)\n",
    "    if w in para2_set:l2.append(2)\n",
    "    else:l2.append(0)\n",
    "\n",
    "# Print binary vectors\n",
    "print(\"\\nVector para1\",l1)\n",
    "print(\"\\nVector para2\",l2)"
   ]
  },
  {
   "cell_type": "code",
   "execution_count": 26,
   "id": "19e2250c",
   "metadata": {},
   "outputs": [
    {
     "name": "stdout",
     "output_type": "stream",
     "text": [
      "Cosine similarity between paragraphs:  0.1111111111111111\n"
     ]
    }
   ],
   "source": [
    "# Cosine similarity formula\n",
    "c = 0\n",
    "for i in range(len(rvector)):\n",
    "    c+= l1[i]*l2[i]\n",
    "cosine = c/float((sum(l1)*sum(l2))**0.5)\n",
    "print(\"Cosine similarity between paragraphs: \",cosine)"
   ]
  },
  {
   "cell_type": "code",
   "execution_count": 27,
   "id": "10d201f8",
   "metadata": {},
   "outputs": [
    {
     "name": "stdout",
     "output_type": "stream",
     "text": [
      "Given paragraph is DISSIMILAR.\n"
     ]
    }
   ],
   "source": [
    "# printing similarity or dissimilarity\n",
    "if cosine > 0.125:\n",
    "    print(\"Given paragraph is similar.\")\n",
    "else:\n",
    "    print(\"Given paragraph is DISSIMILAR.\")"
   ]
  },
  {
   "cell_type": "code",
   "execution_count": null,
   "id": "3376f28c",
   "metadata": {},
   "outputs": [],
   "source": []
  }
 ],
 "metadata": {
  "kernelspec": {
   "display_name": "Python 3 (ipykernel)",
   "language": "python",
   "name": "python3"
  },
  "language_info": {
   "codemirror_mode": {
    "name": "ipython",
    "version": 3
   },
   "file_extension": ".py",
   "mimetype": "text/x-python",
   "name": "python",
   "nbconvert_exporter": "python",
   "pygments_lexer": "ipython3",
   "version": "3.11.4"
  }
 },
 "nbformat": 4,
 "nbformat_minor": 5
}
