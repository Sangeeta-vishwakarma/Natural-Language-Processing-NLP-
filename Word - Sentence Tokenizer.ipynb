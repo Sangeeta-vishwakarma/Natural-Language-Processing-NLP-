{
 "cells": [
  {
   "cell_type": "code",
   "execution_count": 1,
   "id": "f6c402ed",
   "metadata": {},
   "outputs": [],
   "source": [
    "#import modules\n",
    "import pandas as pd\n",
    "import numpy as np\n",
    "import nltk"
   ]
  },
  {
   "cell_type": "code",
   "execution_count": 2,
   "id": "927ebcb4",
   "metadata": {},
   "outputs": [],
   "source": [
    "# Download popular corpus datasets\n",
    "#nltk.download('popular')\n",
    "# will open a help to facilitate the download of data. Select all.\n",
    "#nltk.download()\n",
    "#import os\n",
    "import nltk.corpus"
   ]
  },
  {
   "cell_type": "code",
   "execution_count": 3,
   "id": "f2248abc",
   "metadata": {},
   "outputs": [],
   "source": [
    "# sample text for performing tokenization\n",
    "text = '''In Brazil they drive on the right-hand side of the road.\n",
    "Brazil has a large coastline on the eastern side of South America.\n",
    "Brazil is rich in natural resources'''"
   ]
  },
  {
   "cell_type": "code",
   "execution_count": 4,
   "id": "cc99c292",
   "metadata": {},
   "outputs": [],
   "source": [
    "# import word_tokenize from nltk\n",
    "from nltk.tokenize import word_tokenize"
   ]
  },
  {
   "cell_type": "code",
   "execution_count": 5,
   "id": "955a5499",
   "metadata": {},
   "outputs": [
    {
     "name": "stdout",
     "output_type": "stream",
     "text": [
      "Word Tokenizer\n",
      "Tokens are:\n",
      "['In', 'Brazil', 'they', 'drive', 'on', 'the', 'right-hand', 'side', 'of', 'the', 'road', '.', 'Brazil', 'has', 'a', 'large', 'coastline', 'on', 'the', 'eastern', 'side', 'of', 'South', 'America', '.', 'Brazil', 'is', 'rich', 'in', 'natural', 'resources']\n"
     ]
    }
   ],
   "source": [
    "# Passing the string text into word tokenize for breaking the sentences\n",
    "tokens = word_tokenize(text)\n",
    "print(\"Word Tokenizer\")\n",
    "print(\"Tokens are:\")\n",
    "print(tokens)"
   ]
  },
  {
   "cell_type": "code",
   "execution_count": 6,
   "id": "50f4d340",
   "metadata": {},
   "outputs": [
    {
     "name": "stdout",
     "output_type": "stream",
     "text": [
      "Frequency Distribution\n",
      "<FreqDist with 23 samples and 31 outcomes>\n"
     ]
    }
   ],
   "source": [
    "# find the frequency distribution of tokens\n",
    "# import frequency distribution\n",
    "from nltk.probability import FreqDist\n",
    "freqdist = FreqDist(tokens)\n",
    "print(\"Frequency Distribution\")\n",
    "print(freqdist)"
   ]
  },
  {
   "cell_type": "code",
   "execution_count": 7,
   "id": "2330d11e",
   "metadata": {},
   "outputs": [
    {
     "name": "stdout",
     "output_type": "stream",
     "text": [
      "Most frequently used common words are : [('Brazil', 3), ('the', 3), ('on', 2), ('side', 2), ('of', 2), ('.', 2), ('In', 1), ('they', 1), ('drive', 1), ('right-hand', 1)]\n"
     ]
    }
   ],
   "source": [
    "# print the frequency of top 10 words\n",
    "top10 = freqdist.most_common(10)\n",
    "print(\"Most frequently used common words are :\",top10)"
   ]
  },
  {
   "cell_type": "code",
   "execution_count": 10,
   "id": "eecea409",
   "metadata": {},
   "outputs": [
    {
     "name": "stdout",
     "output_type": "stream",
     "text": [
      "\n",
      "\n",
      "Sentence tokenizer\n",
      "Sentences are:\n",
      "In Brazil they drive on the right-hand side of the road.\n",
      "Brazil has a large coastline on the eastern side of South America.\n",
      "Brazil is rich in natural resources\n"
     ]
    }
   ],
   "source": [
    "# sentence tokenizer\n",
    "from nltk.tokenize import sent_tokenize\n",
    "print(\"\\n\\nSentence tokenizer\")\n",
    "sents=sent_tokenize(text)\n",
    "print(\"Sentences are:\")\n",
    "for s in sents:\n",
    "    print(s)"
   ]
  },
  {
   "cell_type": "code",
   "execution_count": null,
   "id": "d63a4b0c",
   "metadata": {},
   "outputs": [],
   "source": []
  }
 ],
 "metadata": {
  "kernelspec": {
   "display_name": "Python 3 (ipykernel)",
   "language": "python",
   "name": "python3"
  },
  "language_info": {
   "codemirror_mode": {
    "name": "ipython",
    "version": 3
   },
   "file_extension": ".py",
   "mimetype": "text/x-python",
   "name": "python",
   "nbconvert_exporter": "python",
   "pygments_lexer": "ipython3",
   "version": "3.11.4"
  }
 },
 "nbformat": 4,
 "nbformat_minor": 5
}
