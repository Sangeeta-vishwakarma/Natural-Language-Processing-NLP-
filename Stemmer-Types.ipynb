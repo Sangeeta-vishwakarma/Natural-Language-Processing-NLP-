{
 "cells": [
  {
   "cell_type": "code",
   "execution_count": 13,
   "id": "a39d6db4",
   "metadata": {},
   "outputs": [],
   "source": [
    "# import modules\n",
    "import nltk\n",
    "from nltk.stem import PorterStemmer\n",
    "from nltk.tokenize import word_tokenize"
   ]
  },
  {
   "cell_type": "markdown",
   "id": "8ad444f1",
   "metadata": {},
   "source": [
    "# PORTER STEMMER"
   ]
  },
  {
   "cell_type": "code",
   "execution_count": 4,
   "id": "119d0216",
   "metadata": {},
   "outputs": [],
   "source": [
    "# Create an instance for stemmer\n",
    "pst = PorterStemmer()"
   ]
  },
  {
   "cell_type": "code",
   "execution_count": 5,
   "id": "f643c13c",
   "metadata": {},
   "outputs": [
    {
     "name": "stdout",
     "output_type": "stream",
     "text": [
      "After Stemminig :  eat\n"
     ]
    }
   ],
   "source": [
    "p = pst.stem('eating')\n",
    "print(\"After Stemminig : \", p)"
   ]
  },
  {
   "cell_type": "code",
   "execution_count": 12,
   "id": "3fbf4526",
   "metadata": {},
   "outputs": [
    {
     "name": "stdout",
     "output_type": "stream",
     "text": [
      "waited : wait\n",
      "waiting : wait\n",
      "waits : wait\n",
      "waiter : waiter\n"
     ]
    }
   ],
   "source": [
    "# Stemming on list of words\n",
    "list1 = [\"waited\", \"waiting\", \"waits\", \"waiter\"]\n",
    "list2 = [\"Give\", \"giving\", \"given\", \"Given\", \"giver\", \"gives\", \"gave\", \"regives\"]\n",
    "for word in list1:\n",
    "    print(word,\":\",pst.stem(word))"
   ]
  },
  {
   "cell_type": "code",
   "execution_count": 14,
   "id": "a524e46b",
   "metadata": {},
   "outputs": [],
   "source": [
    "# stemming sentence\n",
    "text = '''In Brazil they drive on the right-hand side of the road.\n",
    "Brazil has a large coastline on the eastern side of South America.\n",
    "Brazil is rich in natural resources'''"
   ]
  },
  {
   "cell_type": "code",
   "execution_count": 17,
   "id": "cfc452ab",
   "metadata": {},
   "outputs": [
    {
     "name": "stdout",
     "output_type": "stream",
     "text": [
      "in\n",
      "brazil\n",
      "they\n",
      "drive\n",
      "on\n",
      "the\n",
      "right-hand\n",
      "side\n",
      "of\n",
      "the\n",
      "road\n",
      ".\n",
      "brazil\n",
      "ha\n",
      "a\n",
      "larg\n",
      "coastlin\n",
      "on\n",
      "the\n",
      "eastern\n",
      "side\n",
      "of\n",
      "south\n",
      "america\n",
      ".\n",
      "brazil\n",
      "is\n",
      "rich\n",
      "in\n",
      "natur\n",
      "resourc\n"
     ]
    }
   ],
   "source": [
    "text1 = word_tokenize(text)\n",
    "for word in text1:\n",
    "    print(pst.stem(word))"
   ]
  },
  {
   "cell_type": "markdown",
   "id": "ff3f7ea4",
   "metadata": {},
   "source": [
    "# LANCASTER STEMMER"
   ]
  },
  {
   "cell_type": "code",
   "execution_count": 18,
   "id": "a3355b57",
   "metadata": {},
   "outputs": [],
   "source": [
    "from nltk.stem import LancasterStemmer"
   ]
  },
  {
   "cell_type": "code",
   "execution_count": 20,
   "id": "503009dd",
   "metadata": {},
   "outputs": [],
   "source": [
    "# create instance for lancaster\n",
    "lst = LancasterStemmer()"
   ]
  },
  {
   "cell_type": "code",
   "execution_count": 21,
   "id": "f857e935",
   "metadata": {},
   "outputs": [
    {
     "data": {
      "text/plain": [
       "['Give', 'giving', 'given', 'Given', 'giver', 'gives', 'gave', 'regives']"
      ]
     },
     "execution_count": 21,
     "metadata": {},
     "output_type": "execute_result"
    }
   ],
   "source": [
    "list2"
   ]
  },
  {
   "cell_type": "code",
   "execution_count": 23,
   "id": "906088f9",
   "metadata": {},
   "outputs": [
    {
     "name": "stdout",
     "output_type": "stream",
     "text": [
      "Give : giv\n",
      "giving : giv\n",
      "given : giv\n",
      "Given : giv\n",
      "giver : giv\n",
      "gives : giv\n",
      "gave : gav\n",
      "regives : reg\n"
     ]
    }
   ],
   "source": [
    "for word in list2:\n",
    "    print(word,\":\",lst.stem(word))"
   ]
  },
  {
   "cell_type": "code",
   "execution_count": null,
   "id": "9eeef6a7",
   "metadata": {},
   "outputs": [],
   "source": []
  }
 ],
 "metadata": {
  "kernelspec": {
   "display_name": "Python 3 (ipykernel)",
   "language": "python",
   "name": "python3"
  },
  "language_info": {
   "codemirror_mode": {
    "name": "ipython",
    "version": 3
   },
   "file_extension": ".py",
   "mimetype": "text/x-python",
   "name": "python",
   "nbconvert_exporter": "python",
   "pygments_lexer": "ipython3",
   "version": "3.11.4"
  }
 },
 "nbformat": 4,
 "nbformat_minor": 5
}
