{
 "cells": [
  {
   "cell_type": "code",
   "execution_count": 1,
   "id": "49984fde",
   "metadata": {},
   "outputs": [],
   "source": [
    "# importing all modules\n",
    "import nltk\n",
    "from nltk.corpus import stopwords\n",
    "import numpy as np\n",
    "import pandas as pd"
   ]
  },
  {
   "cell_type": "markdown",
   "id": "56f360f4",
   "metadata": {},
   "source": [
    "# Remove stopwords using stopwords module from nltk.corpus"
   ]
  },
  {
   "cell_type": "code",
   "execution_count": 8,
   "id": "7d1af8f3",
   "metadata": {},
   "outputs": [
    {
     "name": "stdout",
     "output_type": "stream",
     "text": [
      "['i', 'me', 'my', 'myself', 'we', 'our', 'ours', 'ourselves', 'you', \"you're\", \"you've\", \"you'll\", \"you'd\", 'your', 'yours', 'yourself', 'yourselves', 'he', 'him', 'his', 'himself', 'she', \"she's\", 'her', 'hers', 'herself', 'it', \"it's\", 'its', 'itself', 'they', 'them', 'their', 'theirs', 'themselves', 'what', 'which', 'who', 'whom', 'this', 'that', \"that'll\", 'these', 'those', 'am', 'is', 'are', 'was', 'were', 'be', 'been', 'being', 'have', 'has', 'had', 'having', 'do', 'does', 'did', 'doing', 'a', 'an', 'the', 'and', 'but', 'if', 'or', 'because', 'as', 'until', 'while', 'of', 'at', 'by', 'for', 'with', 'about', 'against', 'between', 'into', 'through', 'during', 'before', 'after', 'above', 'below', 'to', 'from', 'up', 'down', 'in', 'out', 'on', 'off', 'over', 'under', 'again', 'further', 'then', 'once', 'here', 'there', 'when', 'where', 'why', 'how', 'all', 'any', 'both', 'each', 'few', 'more', 'most', 'other', 'some', 'such', 'no', 'nor', 'not', 'only', 'own', 'same', 'so', 'than', 'too', 'very', 's', 't', 'can', 'will', 'just', 'don', \"don't\", 'should', \"should've\", 'now', 'd', 'll', 'm', 'o', 're', 've', 'y', 'ain', 'aren', \"aren't\", 'couldn', \"couldn't\", 'didn', \"didn't\", 'doesn', \"doesn't\", 'hadn', \"hadn't\", 'hasn', \"hasn't\", 'haven', \"haven't\", 'isn', \"isn't\", 'ma', 'mightn', \"mightn't\", 'mustn', \"mustn't\", 'needn', \"needn't\", 'shan', \"shan't\", 'shouldn', \"shouldn't\", 'wasn', \"wasn't\", 'weren', \"weren't\", 'won', \"won't\", 'wouldn', \"wouldn't\"]\n",
      "\n",
      "We have 179 stopwords . \n"
     ]
    }
   ],
   "source": [
    "#stopwords\n",
    "sw_nltk = stopwords.words('english')\n",
    "print(sw_nltk)\n",
    "print(\"\\nWe have\",len(sw_nltk),\"stopwords . \")"
   ]
  },
  {
   "cell_type": "code",
   "execution_count": 5,
   "id": "9e9c06a9",
   "metadata": {},
   "outputs": [
    {
     "name": "stdout",
     "output_type": "stream",
     "text": [
      "first met quiet. remained quiet entire two hour long journey Mumbai New Delhi.\n",
      "Old length of sentence is  125\n",
      "New length of sentence is  78\n"
     ]
    }
   ],
   "source": [
    "# Remove stopwords from sentence\n",
    "text = 'When I first met her she was very quiet. She remained quiet during the entire two hour long journey from Mumbai to New Delhi.'\n",
    "# Extract words from sentence if they exist in stopwords list\n",
    "# Eliminate from sentence\n",
    "words = [word for word in text.split() if word.lower() not in sw_nltk]\n",
    "new_text = \" \".join(words)\n",
    "print(new_text)\n",
    "print(\"Old length of sentence is \",len(text))\n",
    "print(\"New length of sentence is \",len(new_text))"
   ]
  },
  {
   "cell_type": "markdown",
   "id": "a26e0178",
   "metadata": {},
   "source": [
    "# Remove stopwords using scikit-learn"
   ]
  },
  {
   "cell_type": "code",
   "execution_count": 7,
   "id": "6e1659d2",
   "metadata": {},
   "outputs": [
    {
     "name": "stdout",
     "output_type": "stream",
     "text": [
      "frozenset({'part', 'nowhere', 'toward', 'fifteen', 'four', 'may', 'first', 'few', 'such', 'do', 'detail', 'which', 'alone', 'above', 'over', 'is', 'thru', 'another', 'further', 'both', 'a', 'without', 'yourselves', 'yet', 'always', 'own', 'hence', 'my', 'was', 'meanwhile', 'only', 'ten', 'back', 'nevertheless', 'none', 'mill', 'etc', 'not', 'describe', 'whole', 'done', 'everyone', 'nor', 'much', 'if', 'before', 'here', 'too', 'between', 'be', 'eleven', 'among', 'hasnt', 'because', 'behind', 'her', 'thick', 'were', 'whatever', 'and', 'least', 'whereafter', 'bill', 'also', 'are', 'full', 'although', 'off', 'by', 'per', 'am', 'except', 'otherwise', 'thereby', 'latter', 'been', 'still', 'same', 'around', 'us', 'thus', 'had', 'would', 'nothing', 'it', 'noone', 'might', 'together', 'three', 'about', 'below', 'with', 'eg', 'no', 'see', 'hundred', 'whom', 'system', 'everything', 'something', 'fifty', 'top', 'wherein', 'this', 'all', 'ltd', 'therein', 'mine', 'cant', 'sometime', 'along', 'give', 'empty', 'upon', 'move', 'whenever', 'when', 'everywhere', 'can', 'anyway', 'anyone', 'afterwards', 'whither', 'show', 'at', 'the', 'while', 'very', 'interest', 'into', 'con', 'ours', 'amoungst', 'front', 'less', 'even', 'thin', 'already', 'others', 'some', 'sixty', 'couldnt', 'often', 'de', 'nobody', 'last', 'me', 'now', 'itself', 'should', 'who', 'again', 'being', 'besides', 'you', 'put', 'almost', 'she', 'never', 'than', 'forty', 'therefore', 'twenty', 'well', 'either', 'mostly', 'herein', 'these', 'ever', 'perhaps', 'anything', 'we', 'nine', 'get', 'serious', 'keep', 'bottom', 'down', 'seem', 'each', 'whether', 'become', 'his', 'namely', 'so', 'any', 'since', 'where', 'then', 'whereas', 'somewhere', 'two', 'for', 'until', 'during', 'as', 'amongst', 'those', 'herself', 'hers', 'though', 'found', 'or', 'after', 'ourselves', 'co', 'will', 'beforehand', 'of', 'whereby', 'else', 'many', 'from', 'seeming', 'hereupon', 'whose', 'anywhere', 'next', 'they', 'but', 'beside', 'your', 'rather', 'indeed', 'neither', 'could', 'sometimes', 'fire', 'amount', 'seemed', 're', 'their', 'whoever', 'towards', 'other', 'former', 'up', 'take', 'why', 'seems', 'its', 'once', 'how', 'became', 'onto', 'formerly', 'i', 'side', 'go', 'inc', 'due', 'has', 'within', 'call', 'myself', 'yours', 'out', 'throughout', 'five', 'hereafter', 'however', 'elsewhere', 'beyond', 'in', 'under', 'wherever', 'moreover', 'thereafter', 'someone', 'twelve', 'via', 'latterly', 'he', 'six', 'them', 'thereupon', 'what', 'that', 'find', 'on', 'enough', 'cry', 'becomes', 'him', 'one', 'made', 'have', 'must', 'name', 'sincere', 'several', 'thence', 'against', 'becoming', 'yourself', 'anyhow', 'whence', 'please', 'more', 'somehow', 'third', 'there', 'to', 'himself', 'an', 'hereby', 'whereupon', 'through', 'themselves', 'eight', 'fill', 'un', 'cannot', 'most', 'ie', 'our', 'every', 'across'})\n",
      "\n",
      "sklearn has  318 stopwords\n"
     ]
    }
   ],
   "source": [
    "# import module for scikit-learn\n",
    "from sklearn.feature_extraction.text import ENGLISH_STOP_WORDS\n",
    "# Stopwords\n",
    "print(ENGLISH_STOP_WORDS)\n",
    "print(\"\\nsklearn has \",len(ENGLISH_STOP_WORDS),\"stopwords\")"
   ]
  },
  {
   "cell_type": "code",
   "execution_count": 9,
   "id": "e625a912",
   "metadata": {},
   "outputs": [
    {
     "name": "stdout",
     "output_type": "stream",
     "text": [
      "met quiet. remained quiet entire hour long journey Mumbai New Delhi.\n",
      "Old length of sentence is  125\n",
      "New length of sentence is  68\n"
     ]
    }
   ],
   "source": [
    "# remove stopwords from sentence using sklearn\n",
    "words = [word for word in text.split() if word.lower() not in ENGLISH_STOP_WORDS]\n",
    "new_text = \" \".join(words)\n",
    "print(new_text)\n",
    "print(\"Old length of sentence is \",len(text))\n",
    "print(\"New length of sentence is \",len(new_text))"
   ]
  },
  {
   "cell_type": "markdown",
   "id": "50e18610",
   "metadata": {},
   "source": [
    "# Customize stop word list"
   ]
  },
  {
   "cell_type": "code",
   "execution_count": 10,
   "id": "e6ba163e",
   "metadata": {},
   "outputs": [
    {
     "name": "stdout",
     "output_type": "stream",
     "text": [
      "Now my list has :  184 words\n"
     ]
    }
   ],
   "source": [
    "#customize stop word list\n",
    "sw_nltk.extend(['first','second','third','us','not'])\n",
    "print(\"Now my list has : \",len(sw_nltk),\"words\")"
   ]
  },
  {
   "cell_type": "code",
   "execution_count": null,
   "id": "a84b18fe",
   "metadata": {},
   "outputs": [],
   "source": []
  }
 ],
 "metadata": {
  "kernelspec": {
   "display_name": "Python 3 (ipykernel)",
   "language": "python",
   "name": "python3"
  },
  "language_info": {
   "codemirror_mode": {
    "name": "ipython",
    "version": 3
   },
   "file_extension": ".py",
   "mimetype": "text/x-python",
   "name": "python",
   "nbconvert_exporter": "python",
   "pygments_lexer": "ipython3",
   "version": "3.11.4"
  }
 },
 "nbformat": 4,
 "nbformat_minor": 5
}
