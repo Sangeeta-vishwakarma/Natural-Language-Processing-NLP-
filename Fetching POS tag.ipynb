{
 "cells": [
  {
   "cell_type": "code",
   "execution_count": 2,
   "id": "486f3aee",
   "metadata": {},
   "outputs": [],
   "source": [
    "# Import module\n",
    "import nltk\n",
    "from nltk.corpus import wordnet"
   ]
  },
  {
   "cell_type": "code",
   "execution_count": 5,
   "id": "410e9727",
   "metadata": {},
   "outputs": [],
   "source": [
    "# to automate the process of fetching of POS tags for each word in dataset\n",
    "# define function\n",
    "\n",
    "def getWordNetPOS(word):\n",
    "    tag = nltk.pos_tag([word])[0][1].upper  # here, 0 and 1 indicates extraction of 1st and 2nd character of word\n",
    "    tagDict = {\"J\":wordnet.ADJ,\n",
    "               \"V\":wordnet.VERB,\n",
    "               \"N\":wordnet.NOUN,\n",
    "               \"R\":wordnet.ADV}\n",
    "    return tagDict.get(tag,wordnet.NOUN)\n"
   ]
  },
  {
   "cell_type": "code",
   "execution_count": 6,
   "id": "2eae45d6",
   "metadata": {},
   "outputs": [
    {
     "name": "stdout",
     "output_type": "stream",
     "text": [
      "n\n",
      "n\n",
      "n\n"
     ]
    }
   ],
   "source": [
    "# check the function\n",
    "print(getWordNetPOS(\"Better\"))\n",
    "print(getWordNetPOS(\"Playing\"))\n",
    "print(getWordNetPOS(\"bad\"))"
   ]
  },
  {
   "cell_type": "code",
   "execution_count": null,
   "id": "4cf0bd01",
   "metadata": {},
   "outputs": [],
   "source": []
  }
 ],
 "metadata": {
  "kernelspec": {
   "display_name": "Python 3 (ipykernel)",
   "language": "python",
   "name": "python3"
  },
  "language_info": {
   "codemirror_mode": {
    "name": "ipython",
    "version": 3
   },
   "file_extension": ".py",
   "mimetype": "text/x-python",
   "name": "python",
   "nbconvert_exporter": "python",
   "pygments_lexer": "ipython3",
   "version": "3.11.4"
  }
 },
 "nbformat": 4,
 "nbformat_minor": 5
}
